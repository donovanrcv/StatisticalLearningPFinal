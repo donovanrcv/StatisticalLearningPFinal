{
 "cells": [
  {
   "cell_type": "code",
   "execution_count": 13,
   "metadata": {},
   "outputs": [],
   "source": [
    "# Importar pandas y otras bibliotecas necesarias\n",
    "import pandas as pd\n",
    "from sklearn.preprocessing import StandardScaler\n",
    "from sklearn.impute import SimpleImputer\n",
    "from sklearn.pipeline import Pipeline\n",
    "from sklearn.compose import ColumnTransformer\n",
    "from sklearn.model_selection import train_test_split\n",
    "\n",
    "# Cargar el dataset\n",
    "df = pd.read_csv('AirQualityUCIFase_2.csv')\n",
    "\n",
    "# Eliminar las columnas vacías 'Unnamed: 15' y 'Unnamed: 16'\n",
    "df_clean = df.drop(columns=['Unnamed: 15', 'Unnamed: 16'], errors='ignore')\n",
    "\n",
    "# Separar características y variable objetivo\n",
    "X = df_clean.drop(columns=['CO(GT)'])  # características\n",
    "y = df_clean['CO(GT)']  # variable objetivo\n",
    "\n",
    "# Dividir en conjunto de entrenamiento y prueba\n",
    "X_train, X_test, y_train, y_test = train_test_split(X, y, test_size=0.2, random_state=42)\n",
    "\n",
    "# Preprocesamiento de características\n",
    "numeric_features = X.select_dtypes(include=['float64']).columns\n",
    "\n",
    "numeric_transformer = Pipeline(steps=[\n",
    "    ('imputer', SimpleImputer(strategy='mean')),\n",
    "    ('scaler', StandardScaler())\n",
    "])\n",
    "\n",
    "preprocessor = ColumnTransformer(\n",
    "    transformers=[\n",
    "        ('num', numeric_transformer, numeric_features),\n",
    "        # Puedes agregar más transformaciones para otras columnas si es necesario\n",
    "    ])\n",
    "\n",
    "# Aplicar preprocesamiento a los datos\n",
    "X_train_processed = preprocessor.fit_transform(X_train)\n",
    "X_test_processed = preprocessor.transform(X_test)\n",
    "\n",
    "# Crear DataFrames con las características procesadas y la variable objetivo\n",
    "processed_train_df = pd.DataFrame(X_train_processed, columns=numeric_features)\n",
    "processed_train_df['CO(GT)'] = y_train.values\n",
    "\n",
    "processed_test_df = pd.DataFrame(X_test_processed, columns=numeric_features)\n",
    "processed_test_df['CO(GT)'] = y_test.values\n",
    "\n",
    "# Guardar los datasets procesados como archivos CSV sin incluir índices\n",
    "processed_train_df.to_csv('Processed_AirQualityUCI_train.csv', index=False)\n",
    "processed_test_df.to_csv('Processed_AirQualityUCI_test.csv', index=False)\n",
    "\n"
   ]
  },
  {
   "cell_type": "code",
   "execution_count": 16,
   "metadata": {},
   "outputs": [
    {
     "data": {
      "text/plain": [
       "['feature_engineering_pipeline.pkl']"
      ]
     },
     "execution_count": 16,
     "metadata": {},
     "output_type": "execute_result"
    }
   ],
   "source": [
    "# Ejemplo de construcción del Pipeline de ingeniería de características\n",
    "\n",
    "from sklearn.pipeline import Pipeline\n",
    "from sklearn.impute import SimpleImputer\n",
    "from sklearn.preprocessing import StandardScaler, OneHotEncoder\n",
    "from sklearn.compose import ColumnTransformer\n",
    "\n",
    "# Definir las columnas numéricas y categóricas\n",
    "\n",
    "numeric_features = ['PT08.S1(CO)', 'NMHC(GT)', 'C6H6(GT)', \n",
    "                    'PT08.S2(NMHC)', 'NOx(GT)', 'PT08.S3(NOx)', \n",
    "                    'NO2(GT)', 'PT08.S4(NO2)', 'PT08.S5(O3)', \n",
    "                    'T', 'RH', 'AH']\n",
    "\n",
    "categorical_features = ['Date', 'Time']\n",
    "\n",
    "\n",
    "# Construir Pipeline para preprocesamiento\n",
    "numeric_transformer = Pipeline(steps=[\n",
    "    ('imputer', SimpleImputer(strategy='mean')),\n",
    "    ('scaler', StandardScaler())\n",
    "])\n",
    "\n",
    "categorical_transformer = Pipeline(steps=[\n",
    "    ('imputer', SimpleImputer(strategy='most_frequent')),\n",
    "    ('onehot', OneHotEncoder(handle_unknown='ignore'))\n",
    "])\n",
    "\n",
    "preprocessor = ColumnTransformer(\n",
    "    transformers=[\n",
    "        ('num', numeric_transformer, numeric_features),\n",
    "        ('cat', categorical_transformer, categorical_features)\n",
    "    ])\n",
    "\n",
    "# Ejemplo de uso del Pipeline con datos de entrenamiento\n",
    "X_train_processed = preprocessor.fit_transform(X_train)\n",
    "\n",
    "# Guardar el Pipeline entrenado\n",
    "import joblib\n",
    "joblib.dump(preprocessor, 'feature_engineering_pipeline.pkl')\n"
   ]
  }
 ],
 "metadata": {
  "kernelspec": {
   "display_name": "base",
   "language": "python",
   "name": "python3"
  },
  "language_info": {
   "codemirror_mode": {
    "name": "ipython",
    "version": 3
   },
   "file_extension": ".py",
   "mimetype": "text/x-python",
   "name": "python",
   "nbconvert_exporter": "python",
   "pygments_lexer": "ipython3",
   "version": "3.11.5"
  }
 },
 "nbformat": 4,
 "nbformat_minor": 2
}
